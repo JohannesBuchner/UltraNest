{
 "cells": [
  {
   "cell_type": "markdown",
   "metadata": {},
   "source": [
    "# Debugging techniques\n",
    "\n",
    "In this tutorial you will learn:\n",
    "\n",
    " - How to find issues in your model\n",
    " - How to debug a interrupted run\n",
    " - How to determine causes of slow-down\n",
    " - How to debug MPI parallelisation\n",
    " - How to check step sampler correctness\n"
   ]
  },
  {
   "cell_type": "markdown",
   "metadata": {},
   "source": [
    "This tutorial allows you to make sure your code is good, independent of ultranest."
   ]
  },
  {
   "cell_type": "markdown",
   "metadata": {},
   "source": [
    "Lets start with the sine example from the [\"Higher-dimensional fitting\" tutorial](https://johannesbuchner.github.io/UltraNest/example-sine-highd.html):"
   ]
  },
  {
   "cell_type": "code",
   "execution_count": null,
   "metadata": {},
   "outputs": [],
   "source": [
    "import numpy as np\n",
    "import scipy.stats\n",
    "import matplotlib.pyplot as plt\n",
    "import ultranest\n",
    "import corner\n",
    "\n",
    "from numpy import sin, pi\n",
    "\n",
    "def sine_model1(t, B, A1, P1, t1):\n",
    "    return A1 * sin((t / P1 + t1) * 2 * pi) + B\n",
    "\n",
    "np.random.seed(42)\n",
    "\n",
    "n_data = 50\n",
    "\n",
    "# time of observations\n",
    "t = np.random.uniform(0, 5, size=n_data)\n",
    "# measurement values\n",
    "yerr = 1.0\n",
    "y = np.random.normal(sine_model1(t, B=1.0, A1=4.2, P1=3, t1=0), yerr)\n"
   ]
  },
  {
   "cell_type": "markdown",
   "metadata": {},
   "source": [
    "Probabilistic model implementation:"
   ]
  },
  {
   "cell_type": "code",
   "execution_count": null,
   "metadata": {},
   "outputs": [],
   "source": [
    "parameters = ['B', 'A1', 'P1', 't1']\n",
    "ndim = len(parameters)\n",
    "\n",
    "def prior_transform(cube):\n",
    "    params = cube.copy()\n",
    "    params[0] = cube[0] * 20 - 10\n",
    "    params[1] = 10**(cube[1] * 3 - 1)\n",
    "    params[2] = 10**(cube[1] * 2)\n",
    "    params[3] = cube[3]\n",
    "    return params\n",
    "\n",
    "def log_likelihood(params):\n",
    "    B, A1, P1, t1 = params\n",
    "    y_model = sine_model1(t, B=B, A1=A1, P1=P1, t1=t1).tolist()\n",
    "    return scipy.stats.norm(y_model, yerr).logpdf(y).sum()\n"
   ]
  },
  {
   "cell_type": "markdown",
   "metadata": {},
   "source": [
    "## Finding model bugs"
   ]
  },
  {
   "cell_type": "markdown",
   "metadata": {},
   "source": [
    "We have made a happy little mistake in the implementation above."
   ]
  },
  {
   "cell_type": "markdown",
   "metadata": {},
   "source": [
    "### Finding prior transform bugs"
   ]
  },
  {
   "cell_type": "markdown",
   "metadata": {},
   "source": [
    "To find it, lets sample from the prior:"
   ]
  },
  {
   "cell_type": "code",
   "execution_count": null,
   "metadata": {},
   "outputs": [],
   "source": [
    "p = [prior_transform(np.random.uniform(size=ndim)) for i in range(1000)]"
   ]
  },
  {
   "cell_type": "code",
   "execution_count": null,
   "metadata": {},
   "outputs": [],
   "source": [
    "corner.corner(np.array(p), titles=parameters, show_titles=True, plot_density=False, quiet=True);"
   ]
  },
  {
   "cell_type": "markdown",
   "metadata": {},
   "source": [
    "See the issue? A1 and P1 are perfectly correlated!"
   ]
  },
  {
   "cell_type": "markdown",
   "metadata": {},
   "source": [
    "Here is the bug pointed out, and the corrected version:"
   ]
  },
  {
   "cell_type": "code",
   "execution_count": null,
   "metadata": {},
   "outputs": [],
   "source": [
    "def prior_transform(cube):\n",
    "    params = cube.copy()\n",
    "    params[0] = cube[0] * 20 - 10\n",
    "    params[1] = 10**(cube[1] * 3 - 1)\n",
    "    params[2] = 10**(cube[1] * 2)\n",
    "    #      ^              ^ \n",
    "    #                     |\n",
    "    #                  Mistake\n",
    "    # correct version:\n",
    "    params[2] = 10**(cube[2] * 2)\n",
    "    params[3] = cube[3]\n",
    "    return params"
   ]
  },
  {
   "cell_type": "markdown",
   "metadata": {},
   "source": [
    "### Finding likelihood function bugs"
   ]
  },
  {
   "cell_type": "markdown",
   "metadata": {},
   "source": [
    "Draw uniformly from the prior and plot the model. "
   ]
  },
  {
   "cell_type": "code",
   "execution_count": null,
   "metadata": {},
   "outputs": [],
   "source": [
    "params = prior_transform(np.random.uniform(size=ndim))\n",
    "plt.plot(t, sine_model1(t, *params), 'x ');"
   ]
  },
  {
   "cell_type": "markdown",
   "metadata": {},
   "source": [
    "Repeat this a few times and you have prior predictive checks!"
   ]
  },
  {
   "cell_type": "markdown",
   "metadata": {},
   "source": [
    "Also have a look at a few randomly drawn likelihood values. If you see values repeated, or infinites, it is not a good sign."
   ]
  },
  {
   "cell_type": "code",
   "execution_count": null,
   "metadata": {},
   "outputs": [],
   "source": [
    "[log_likelihood(pi) for pi in p[:10]]"
   ]
  },
  {
   "cell_type": "markdown",
   "metadata": {},
   "source": [
    "## How can I make the inference go faster?"
   ]
  },
  {
   "cell_type": "markdown",
   "metadata": {},
   "source": [
    "There are two categories of slowdowns:\n",
    "\n",
    "1. Computational slow-downs: Your model is implemented so it is is slow to evaluate.\n",
    "2. Algorithmic slow-downs: Your model is difficult and requires many model evaluations.\n",
    "\n",
    "Lets find out which one is blocking you most:\n",
    "\n",
    "### Measuring implementation speed\n"
   ]
  },
  {
   "cell_type": "markdown",
   "metadata": {},
   "source": [
    "Lets measure the speed of our prior transform and model:"
   ]
  },
  {
   "cell_type": "code",
   "execution_count": null,
   "metadata": {},
   "outputs": [],
   "source": [
    "u = np.random.uniform(size=ndim)\n",
    "%timeit prior_transform(u)"
   ]
  },
  {
   "cell_type": "code",
   "execution_count": null,
   "metadata": {},
   "outputs": [],
   "source": [
    "p = prior_transform(u)\n",
    "%timeit log_likelihood(p)"
   ]
  },
  {
   "cell_type": "markdown",
   "metadata": {},
   "source": [
    "Here we see that the prior transform is very quick: one evaluation per microsecond. But the likelihood is much slower, with one  evaluation per ms. That means for a million samples, we already have to wait 15 minutes."
   ]
  },
  {
   "cell_type": "markdown",
   "metadata": {},
   "source": [
    "We should speed it up (see [\"Higher-dimensional fitting\" tutorial](https://johannesbuchner.github.io/UltraNest/example-sine-highd.html) for a faster implementation)."
   ]
  },
  {
   "cell_type": "markdown",
   "metadata": {},
   "source": [
    "### Measuring algorithmic speed"
   ]
  },
  {
   "cell_type": "markdown",
   "metadata": {},
   "source": [
    "In the ultranest output, look at the sampling efficiency.\n",
    "\n",
    "If it is a few percent to 100%, the inference is very fast algorithmically, and you should focus on the model computation speed (see above). Switching to a step sampler will not lead to improvements.\n",
    "\n",
    "If the efficiency is very low (say, 0.1% or lower), the proposal is inefficient. Use a step sampler (see [\"Higher-dimensional fitting\" tutorial](https://johannesbuchner.github.io/UltraNest/example-sine-highd.html))."
   ]
  },
  {
   "cell_type": "markdown",
   "metadata": {},
   "source": [
    "## Looking inside a interrupted run"
   ]
  },
  {
   "cell_type": "markdown",
   "metadata": {},
   "source": [
    "Lets run ultranest for 30 seconds and interrupt it, and see the parameter space it is tackling."
   ]
  },
  {
   "cell_type": "code",
   "execution_count": null,
   "metadata": {},
   "outputs": [],
   "source": [
    "import signal\n",
    "def timeout_handler(signum, frame):\n",
    "    raise TimeoutError()\n",
    "old_handler = signal.signal(signal.SIGALRM, timeout_handler) \n",
    "signal.alarm(30);"
   ]
  },
  {
   "cell_type": "code",
   "execution_count": null,
   "metadata": {},
   "outputs": [],
   "source": [
    "import ultranest\n",
    "\n",
    "sampler = ultranest.ReactiveNestedSampler(parameters, log_likelihood, prior_transform,\n",
    "                                          wrapped_params=[False, False, False, True])\n",
    "\n",
    "try:\n",
    "    sampler.run()\n",
    "except TimeoutError:\n",
    "    print(\"run interrupted!\")\n",
    "\n",
    "signal.signal(signal.SIGALRM, old_handler);"
   ]
  },
  {
   "cell_type": "markdown",
   "metadata": {},
   "source": [
    "### Looking inside the current parameter space"
   ]
  },
  {
   "cell_type": "markdown",
   "metadata": {},
   "source": [
    "Nested sampling is at this likelihood threshold:"
   ]
  },
  {
   "cell_type": "code",
   "execution_count": null,
   "metadata": {},
   "outputs": [],
   "source": [
    "sampler.Lmin"
   ]
  },
  {
   "cell_type": "markdown",
   "metadata": {},
   "source": [
    "Lets see the distribution of live points in the parameter space:"
   ]
  },
  {
   "cell_type": "code",
   "execution_count": null,
   "metadata": {},
   "outputs": [],
   "source": [
    "live_points_p = sampler.transform(sampler.region.u)\n",
    "corner.corner(live_points_p, titles=sampler.paramnames, show_titles=True, quiet=True);"
   ]
  },
  {
   "cell_type": "markdown",
   "metadata": {},
   "source": [
    "This does not look trivial, for example P1-t1 plot has two arms. It is not a ellipsoidal contour (which would be the easiest shape).\n",
    "\n",
    "However, this plot also includes the prior deformation. What ultranest operates on, primarily, is the unit cube. Lets look at the live points distribution in the un-transformed prior space:"
   ]
  },
  {
   "cell_type": "code",
   "execution_count": null,
   "metadata": {},
   "outputs": [],
   "source": [
    "corner.corner(sampler.region.u, show_titles=True, quiet=True);"
   ]
  },
  {
   "cell_type": "markdown",
   "metadata": {},
   "source": [
    "Again, you see relatively complicated shapes. This means that the parameters have a complicated relationship with the observables.\n",
    "\n",
    "You can help ultranest by reparametrizing the parameters, or adding derived parameters, which are more ellipsoidal, and better behaved."
   ]
  },
  {
   "cell_type": "markdown",
   "metadata": {},
   "source": [
    "Lets see what models correspond to the current live points:"
   ]
  },
  {
   "cell_type": "code",
   "execution_count": null,
   "metadata": {},
   "outputs": [],
   "source": [
    "plt.plot(t, y, 'o ', ms=14, color='k')\n",
    "\n",
    "for params in live_points_p:\n",
    "    plt.plot(t, sine_model1(t, *params), '. ', color=plt.cm.viridis(params[2]/10))\n"
   ]
  },
  {
   "cell_type": "markdown",
   "metadata": {},
   "source": [
    "Here you see two groups of curves, which are highlighted by color-coding by period.\n",
    "\n",
    "Some models (blue) that have the period as in the data (black circles),\n",
    "and some (yellow) just put a straight line through the data.\n"
   ]
  },
  {
   "cell_type": "markdown",
   "metadata": {},
   "source": [
    "This explains the two arms in the distribution plots above as well."
   ]
  },
  {
   "cell_type": "markdown",
   "metadata": {},
   "source": [
    "### Reparametrizing"
   ]
  },
  {
   "cell_type": "markdown",
   "metadata": {},
   "source": [
    "The sine curve model has the time shift t1 and the period as parameters. Likely, the data will constrain, for example, when the peak occurs, for example."
   ]
  },
  {
   "cell_type": "markdown",
   "metadata": {},
   "source": [
    "So you could add a derived parameter that specifies the time of the first peak. If that is closer to the data, the sampler can take advantage of it."
   ]
  },
  {
   "cell_type": "markdown",
   "metadata": {},
   "source": [
    "You can also see that when A1 is large, B can take a wider range of values, giving a funnel shape:"
   ]
  },
  {
   "cell_type": "code",
   "execution_count": null,
   "metadata": {},
   "outputs": [],
   "source": [
    "plt.scatter(live_points_p[:,0], live_points_p[:,1])\n",
    "plt.ylabel('Amplitude (A1)')\n",
    "plt.xlabel('Background level (B)');"
   ]
  },
  {
   "cell_type": "markdown",
   "metadata": {},
   "source": [
    "This funnel is even clearer in unit cube space:"
   ]
  },
  {
   "cell_type": "code",
   "execution_count": null,
   "metadata": {},
   "outputs": [],
   "source": [
    "plt.scatter(sampler.region.u[:,0], sampler.region.u[:,1])\n",
    "plt.ylabel('Amplitude (A1), untransformed')\n",
    "plt.xlabel('Background level (B), untransformed');"
   ]
  },
  {
   "cell_type": "markdown",
   "metadata": {},
   "source": [
    "A different parameterization would be to define a background fraction. Instead of background & amplitude being free parameters, you would have this reparametrized model:"
   ]
  },
  {
   "cell_type": "code",
   "execution_count": null,
   "metadata": {},
   "outputs": [],
   "source": [
    "parameters_reparametrized = ['Bfrac', 'A1', 'P1', 't1']\n",
    "\n",
    "def prior_transform_reparametrized(cube):\n",
    "    params = cube.copy()\n",
    "    # amplitude:\n",
    "    params[1] = 10**(cube[1] * 3 - 1)\n",
    "    # background is scaled by params[1]\n",
    "    params[0] = cube[0] * params[1]\n",
    "    \n",
    "    # rest is unchanged\n",
    "    params[2] = 10**(cube[1] * 2)\n",
    "    params[3] = cube[3]\n",
    "    return params"
   ]
  },
  {
   "cell_type": "markdown",
   "metadata": {},
   "source": [
    "This is only a toy example to give you ideas how to investigate the geometries the sampler is currently exploring."
   ]
  },
  {
   "cell_type": "markdown",
   "metadata": {},
   "source": [
    "## Parallelisation issues"
   ]
  },
  {
   "cell_type": "markdown",
   "metadata": {},
   "source": [
    "If you have any MPI issues, test your MPI first in isolation, by running this command:"
   ]
  },
  {
   "cell_type": "code",
   "execution_count": null,
   "metadata": {},
   "outputs": [],
   "source": [
    "!mpiexec -np 4 python3 -c 'from mpi4py import MPI; print(MPI.COMM_WORLD.Get_rank(), MPI.COMM_WORLD.Get_size())'"
   ]
  },
  {
   "cell_type": "markdown",
   "metadata": {},
   "source": [
    "This should give something like:\n",
    "\n",
    "     3 4\n",
    "     1 4\n",
    "     0 4\n",
    "     2 4\n",
    "\n",
    "With the first column randomly. If it gives an output like the above, your MPI is working. If the last column is 1, your cores are not communicating. If you get an error, fix it first."
   ]
  },
  {
   "cell_type": "markdown",
   "metadata": {},
   "source": [
    "If you are seeing slower runtimes with MPI than without, see here: https://johannesbuchner.github.io/UltraNest/performance.html#parallelisation"
   ]
  },
  {
   "cell_type": "markdown",
   "metadata": {},
   "source": [
    "Some MPI implementations have bugs, and you can switch to another MPI implementation. Your computing cluster admins may also help you with MPI troubles."
   ]
  },
  {
   "cell_type": "markdown",
   "metadata": {},
   "source": [
    "## Debugging step sampler quality"
   ]
  },
  {
   "cell_type": "markdown",
   "metadata": {},
   "source": [
    "Run with nsteps=1, 2, 4, 8, 16, 32, 64 ... steps and look where the log(Z) value stabilizes."
   ]
  }
 ],
 "metadata": {
  "kernelspec": {
   "display_name": "Python 3 (ipykernel)",
   "language": "python",
   "name": "python3"
  },
  "language_info": {
   "codemirror_mode": {
    "name": "ipython",
    "version": 3
   },
   "file_extension": ".py",
   "mimetype": "text/x-python",
   "name": "python",
   "nbconvert_exporter": "python",
   "pygments_lexer": "ipython3",
   "version": "3.10.4"
  }
 },
 "nbformat": 4,
 "nbformat_minor": 2
}
